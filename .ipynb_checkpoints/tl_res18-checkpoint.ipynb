{
 "cells": [
  {
   "cell_type": "code",
   "execution_count": 2,
   "metadata": {},
   "outputs": [],
   "source": [
    "import torch\n",
    "import torch.nn as nn\n",
    "import torch.optim as optim\n",
    "from torch.optim import lr_scheduler\n",
    "import numpy as np\n",
    "import torchvision\n",
    "from torchvision import datasets, models, transforms\n",
    "import matplotlib.pyplot as plt\n",
    "import time\n",
    "import os\n",
    "import copy\n",
    "from CarDataset import CarDataset\n",
    "\n",
    "device = torch.device(\"cuda:0\" if torch.cuda.is_available() else \"cpu\")\n",
    "plt.ion()    # interactive mode"
   ]
  },
  {
   "cell_type": "markdown",
   "metadata": {},
   "source": [
    "# Load data and transform\n",
    "\n",
    "### train dataset transform\n",
    "- (224 * 224)으로 resize  \n",
    "- 좌우 반전  \n",
    "- 정규화( mean : [0.454952, 0.460148, 0.470733], std : [0.302969, 0.294664, 0.295581] )  \n",
    "\n",
    "### test dataset transform\n",
    "- (256 * 256)으로 resize  \n",
    "- 정규화( mean : [0.454952, 0.460148, 0.470733], std : [0.302969, 0.294664, 0.295581] )  \n",
    "\n",
    "mean, std 값은 지금 사용하고 있는 dataset에 대해서 구한 mean, std 값 사용  \n"
   ]
  },
  {
   "cell_type": "code",
   "execution_count": 1,
   "metadata": {},
   "outputs": [
    {
     "ename": "NameError",
     "evalue": "name 'transforms' is not defined",
     "output_type": "error",
     "traceback": [
      "\u001b[0;31m---------------------------------------------------------------------------\u001b[0m",
      "\u001b[0;31mNameError\u001b[0m                                 Traceback (most recent call last)",
      "\u001b[0;32m<ipython-input-1-865bfba0434d>\u001b[0m in \u001b[0;36m<module>\u001b[0;34m\u001b[0m\n\u001b[1;32m      1\u001b[0m data_transforms = {\n\u001b[0;32m----> 2\u001b[0;31m     'train': transforms.Compose([\n\u001b[0m\u001b[1;32m      3\u001b[0m         \u001b[0mtransforms\u001b[0m\u001b[0;34m.\u001b[0m\u001b[0mResize\u001b[0m\u001b[0;34m(\u001b[0m\u001b[0;34m(\u001b[0m\u001b[0;36m400\u001b[0m\u001b[0;34m,\u001b[0m \u001b[0;36m400\u001b[0m\u001b[0;34m)\u001b[0m\u001b[0;34m)\u001b[0m\u001b[0;34m,\u001b[0m\u001b[0;34m\u001b[0m\u001b[0;34m\u001b[0m\u001b[0m\n\u001b[1;32m      4\u001b[0m         \u001b[0mtransforms\u001b[0m\u001b[0;34m.\u001b[0m\u001b[0mRandomHorizontalFlip\u001b[0m\u001b[0;34m(\u001b[0m\u001b[0;34m)\u001b[0m\u001b[0;34m,\u001b[0m\u001b[0;34m\u001b[0m\u001b[0;34m\u001b[0m\u001b[0m\n\u001b[1;32m      5\u001b[0m         \u001b[0mtransforms\u001b[0m\u001b[0;34m.\u001b[0m\u001b[0mToTensor\u001b[0m\u001b[0;34m(\u001b[0m\u001b[0;34m)\u001b[0m\u001b[0;34m,\u001b[0m\u001b[0;34m\u001b[0m\u001b[0;34m\u001b[0m\u001b[0m\n",
      "\u001b[0;31mNameError\u001b[0m: name 'transforms' is not defined"
     ]
    }
   ],
   "source": [
    "\n",
    "data_transforms = {\n",
    "    'train': transforms.Compose([\n",
    "        transforms.Resize((224, 224)),\n",
    "        transforms.RandomHorizontalFlip(),\n",
    "        transforms.ToTensor(),\n",
    "        transforms.Normalize([0.454952, 0.460148, 0.470733], [0.302969, 0.294664, 0.295581])\n",
    "    ]),\n",
    "    'val': transforms.Compose([\n",
    "        transforms.Resize((256, 256)),\n",
    "        transforms.ToTensor(),\n",
    "        transforms.Normalize([0.454952, 0.460148, 0.470733], [0.302969, 0.294664, 0.295581])\n",
    "    ]),\n",
    "}\n",
    "train_dataset = CarDataset('data/cars/anno_train.csv', 'data/cars/train/', transform=data_transforms['train'])\n",
    "\n",
    "train_dataLoader = torch.utils.data.DataLoader(train_dataset, batch_size=4, shuffle=True, num_workers=0)\n",
    "\n",
    "val_dataset = CarDataset('data/cars/anno_test.csv', 'data/cars/test/', transform=data_transforms['val'])\n",
    "\n",
    "val_dataLoader = torch.utils.data.DataLoader(val_dataset, batch_size=4, shuffle=True, num_workers=0)\n",
    "\n",
    "dataloaders = {}\n",
    "dataloaders['train'] = train_dataLoader\n",
    "dataloaders['val'] = val_dataLoader\n",
    "\n",
    "#dataset_sizes['train'] = train set 사진 갯수\n",
    "#dataset_sizes['val'] = val set 사진 갯수\n",
    "dataset_sizes = {}\n",
    "dataset_sizes['train'] = len(train_dataset)\n",
    "dataset_sizes['val'] = len(val_dataset)"
   ]
  },
  {
   "cell_type": "markdown",
   "metadata": {},
   "source": [
    "# Batch images visualization"
   ]
  },
  {
   "cell_type": "code",
   "execution_count": null,
   "metadata": {},
   "outputs": [],
   "source": [
    "def imshow(inp, title=None):\n",
    "    \"\"\"Imshow for Tensor.\"\"\"\n",
    "    inp = inp.numpy().transpose((1, 2, 0))\n",
    "    mean = np.array([0.454952, 0.460148, 0.470733])\n",
    "    std = np.array([0.302969, 0.294664, 0.295581])\n",
    "    inp = std * inp + mean   # 정규화를 해제\n",
    "    inp = np.clip(inp, 0, 1) # 값들의 범위를 제약 inp는 0과 1사이의 값으로 표현된다.\n",
    "    plt.imshow(inp)\n",
    "    if title is not None:\n",
    "        plt.title(title)\n",
    "    plt.pause(0.001)\n"
   ]
  },
  {
   "cell_type": "markdown",
   "metadata": {},
   "source": [
    "# Model training function"
   ]
  },
  {
   "cell_type": "code",
   "execution_count": 3,
   "metadata": {},
   "outputs": [],
   "source": [
    "def train_model(model, criterion, optimizer, scheduler, num_epochs=25):\n",
    "    since = time.time() #시작 시간을 기록(총 소요 시간 계산을 위해)\n",
    "\n",
    "    best_model_wts = copy.deepcopy(model.state_dict()) # model의 매개변수들을 불러온다.\n",
    "    best_acc = 0.0\n",
    "\n",
    "    for epoch in range(num_epochs):\n",
    "        print('Epoch {}/{}'.format(epoch, num_epochs - 1)) #epoch를 카운트\n",
    "        print('-' * 10)\n",
    "    \n",
    "        # Each epoch has a training and validation phase\n",
    "        for phase in ['train', 'val']:  #train mode와 validation mode 순으로 진행\n",
    "            if phase == 'train':\n",
    "                scheduler.step()\n",
    "                model.train()  # Set model to training mode\n",
    "            else:\n",
    "                model.eval()   # Set model to evaluate mode\n",
    "            \n",
    "            running_loss = 0.0\n",
    "            running_corrects = 0\n",
    "            count = 0\n",
    "            # Iterate over data.\n",
    "            for inputs, labels in dataloaders[phase]: #dataloader로부터 dataset과 그에 해당되는 label을 불러옴\n",
    "                inputs = inputs.to(device) #GPU로 입력데이터를 올림\n",
    "                labels = labels.to(device) #GPU로 label을 올림\n",
    "                \n",
    "                # zero the parameter gradients\n",
    "                optimizer.zero_grad() #Gradient를 0으로 초기화\n",
    "\n",
    "                # forward\n",
    "                # track history if only in train\n",
    "                with torch.set_grad_enabled(phase == 'train'):\n",
    "                    outputs = model(inputs)\n",
    "                    _, preds = torch.max(outputs, 1) #마지막 layer에서 가장 값이 큰 1개의 class를 예측 값으로 지정\n",
    "                    loss = criterion(outputs, labels) \n",
    "\n",
    "                    # backward + optimize only if in training phase\n",
    "                    if phase == 'train': # training 모드에서는 weight를 update한다.\n",
    "                        loss.backward() #backward\n",
    "                        optimizer.step()\n",
    "\n",
    "                # statistics\n",
    "                running_loss += loss.item() * inputs.size(0)\n",
    "                running_corrects += torch.sum(preds == labels.data)\n",
    "                \n",
    "                if count%100 == 0:\n",
    "                    print(count)\n",
    "                count+=1\n",
    "            epoch_loss = running_loss / dataset_sizes[phase]\n",
    "            epoch_acc = running_corrects.double() / dataset_sizes[phase]\n",
    "            \n",
    "            print('{} Loss: {:.4f} Acc: {:.4f}'.format(\n",
    "                phase, epoch_loss, epoch_acc))\n",
    "\n",
    "            # deep copy the model\n",
    "            if phase == 'val' and epoch_acc > best_acc:\n",
    "                best_acc = epoch_acc\n",
    "                best_model_wts = copy.deepcopy(model.state_dict())\n",
    "\n",
    "    time_elapsed = time.time() - since\n",
    "    print('Training complete in {:.0f}m {:.0f}s'.format(\n",
    "        time_elapsed // 60, time_elapsed % 60))\n",
    "    print('Best val Acc: {:4f}'.format(best_acc))"
   ]
  },
  {
   "cell_type": "markdown",
   "metadata": {},
   "source": [
    "# Training"
   ]
  },
  {
   "cell_type": "code",
   "execution_count": 6,
   "metadata": {},
   "outputs": [],
   "source": [
    "# 한개의 배치(batch)만큼 이미지를 불러온다. 배치 사이즈를 4로 했으니 사진 4장이 로드된다.\n",
    "inputs, classes = next(iter(dataloaders['train']))\n",
    "\n",
    "# 로드된 데이터에 make_grid 함수를 통해 그리드를 추가한다.\n",
    "out = torchvision.utils.make_grid(inputs)\n",
    "#--\n",
    "# 이미지를 출력한다.\n",
    "imshow(out, str(classes))\n",
    "\n",
    "model_ft = models.resnet18(pretrained=True) \n",
    "num_ftrs = model_ft.fc.in_features \n",
    "model_ft.fc = nn.Linear(num_ftrs, 196)  # Pre-trained model의 끝단에 fully-connected layer 추가 class가 196개 이므로 196\n",
    "\n",
    "model_ft = model_ft.to(device) # cpu로 이동\n",
    "\n",
    "#------손실함수/optimizer\n",
    "criterion = nn.CrossEntropyLoss() #loss 함수로 cross entropy\n",
    "\n",
    "# Observe that all parameters are being optimized\n",
    "optimizer_ft = optim.SGD(model_ft.parameters(), lr=0.001, momentum=0.9) # optimizer로 SGD사용"
   ]
  }
 ],
 "metadata": {
  "kernelspec": {
   "display_name": "Python 3",
   "language": "python",
   "name": "python3"
  },
  "language_info": {
   "codemirror_mode": {
    "name": "ipython",
    "version": 3
   },
   "file_extension": ".py",
   "mimetype": "text/x-python",
   "name": "python",
   "nbconvert_exporter": "python",
   "pygments_lexer": "ipython3",
   "version": "3.7.4"
  }
 },
 "nbformat": 4,
 "nbformat_minor": 2
}
